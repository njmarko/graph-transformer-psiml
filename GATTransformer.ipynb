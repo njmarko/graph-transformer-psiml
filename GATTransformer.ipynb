{
 "cells": [
  {
   "cell_type": "markdown",
   "id": "ccca774a",
   "metadata": {},
   "source": [
    "## Custom GNN Transformer architecture"
   ]
  },
  {
   "cell_type": "code",
   "execution_count": 50,
   "id": "e37cf507",
   "metadata": {},
   "outputs": [],
   "source": [
    "import torch\n",
    "import torch.nn as nn\n",
    "import time\n",
    "from torch import optim\n",
    "import torch.nn.functional as F\n",
    "import torch_geometric\n",
    "from torch_geometric.nn import GATConv, GATv2Conv\n",
    "import torchvision\n",
    "from einops import rearrange\n",
    "import wandb\n",
    "from sklearn import metrics \n",
    "import os\n",
    "\n",
    "device = 'cuda' if torch.cuda.is_available() else 'cpu'"
   ]
  },
  {
   "cell_type": "code",
   "execution_count": 51,
   "id": "de952e9f",
   "metadata": {},
   "outputs": [],
   "source": [
    "class Residual(nn.Module):\n",
    "    def __init__(self, fn):\n",
    "        super().__init__()\n",
    "        self.fn = fn\n",
    "\n",
    "    def forward(self, x, **kwargs):\n",
    "        return self.fn(x, **kwargs) + x\n",
    "\n",
    "class PreNorm(nn.Module):\n",
    "    def __init__(self, dim, fn):\n",
    "        super().__init__()\n",
    "        self.norm = nn.LayerNorm(dim)\n",
    "        self.fn = fn\n",
    "\n",
    "    def forward(self, x, **kwargs):\n",
    "        return self.fn(self.norm(x), **kwargs)\n",
    "\n",
    "class FeedForward(nn.Module):\n",
    "    def __init__(self, dim, hidden_dim):\n",
    "        super().__init__()\n",
    "        self.net = nn.Sequential(\n",
    "            nn.Linear(dim, hidden_dim),\n",
    "            nn.GELU(),\n",
    "            nn.Linear(hidden_dim, dim)\n",
    "        )\n",
    "\n",
    "    def forward(self, x, **kwargs):\n",
    "        return self.net(x)\n",
    "    \n",
    "class QuickFix(nn.Module):\n",
    "    def __init__(self, dim, heads, fn):\n",
    "        super().__init__()\n",
    "        self.dim = dim\n",
    "        self.heads = heads\n",
    "        self.linear = nn.Linear(dim * heads, dim)\n",
    "        self.fn = fn\n",
    "        \n",
    "    def forward(self, x, **kwargs):\n",
    "        return self.linear(self.fn(x, **kwargs))"
   ]
  },
  {
   "cell_type": "code",
   "execution_count": 52,
   "id": "6d3d558f",
   "metadata": {},
   "outputs": [],
   "source": [
    "# Out implementation of GAT Transformer\n",
    "\n",
    "class GATTransformer(torch.nn.Module):\n",
    "    def __init__(self, dim, depth, heads, mlp_dim):\n",
    "        super().__init__()\n",
    "        self.layers = nn.ModuleList()\n",
    "        self.depth = depth\n",
    "        for _ in range(depth):\n",
    "            self.layers.append(nn.ModuleList([\n",
    "                Residual(PreNorm(dim, QuickFix(dim, heads, GATv2Conv(in_channels=dim, out_channels=dim, heads=heads, add_self_loops=False)))),\n",
    "                Residual(PreNorm(dim, FeedForward(dim, mlp_dim)))\n",
    "            ]))\n",
    "\n",
    "\n",
    "    def forward(self, data):\n",
    "        x, edge_index = data\n",
    "\n",
    "        for attn, ff in self.layers:\n",
    "            x = attn(x=x, edge_index=edge_index)\n",
    "            x = ff(x)\n",
    "\n",
    "        return x\n"
   ]
  },
  {
   "cell_type": "code",
   "execution_count": 53,
   "id": "82198700",
   "metadata": {},
   "outputs": [],
   "source": [
    "class GraphViT(nn.Module):\n",
    "    def __init__(self, image_size, patch_size, num_classes, dim, depth, heads, mlp_dim, channels=3):\n",
    "        super().__init__()\n",
    "        assert image_size % patch_size == 0, 'image dimensions must be divisible by the patch size'\n",
    "        num_patches = (image_size // patch_size) ** 2\n",
    "        patch_dim = channels * patch_size ** 2\n",
    "        \n",
    "        self.dim = dim\n",
    "\n",
    "        self.patch_size = patch_size\n",
    "        self.num_patches = num_patches\n",
    "        self.pos_embedding = nn.Parameter(torch.randn(1, num_patches + 1, dim))\n",
    "        self.patch_to_embedding = nn.Linear(patch_dim, dim)\n",
    "        self.cls_token = nn.Parameter(torch.randn(1, 1, dim))\n",
    "        self.transformer = GATTransformer(dim, depth, heads, mlp_dim)\n",
    "\n",
    "        self.to_cls_token = nn.Identity()\n",
    "\n",
    "        self.mlp_head = nn.Sequential(\n",
    "            nn.Linear(dim, mlp_dim),\n",
    "            nn.GELU(),\n",
    "            nn.Linear(mlp_dim, num_classes)\n",
    "        )\n",
    "\n",
    "    def forward(self, img, mask=None):\n",
    "        p = self.patch_size\n",
    "\n",
    "        x = rearrange(img, 'b c (h p1) (w p2) -> b (h w) (p1 p2 c)', p1 = p, p2 = p)\n",
    "        x = x.to(device)\n",
    "        x = self.patch_to_embedding(x)\n",
    "        \n",
    "        cls_tokens = self.cls_token.expand(img.shape[0], -1, -1)\n",
    "        cls_tokens = cls_tokens.to(device)\n",
    "        x = torch.cat((cls_tokens, x), dim=1)\n",
    "        x += self.pos_embedding\n",
    "        \n",
    "    \n",
    "        x_shape = x.shape\n",
    "        edge_index = torch.ones((2, x.shape[1]**2*x.shape[0]), dtype=torch.long)\n",
    "        for i in range(x.shape[0]*x.shape[1]):\n",
    "            for j in range(x.shape[1]):\n",
    "                edge_index[0,i*x.shape[1] + j] = i\n",
    "                edge_index[1,i*x.shape[1] + j] = x.shape[1]*(i // x.shape[1]) + j\n",
    "        x = x.view((x.shape[0]*x.shape[1], x.shape[2]))\n",
    "        edge_index = edge_index.to(device)\n",
    "\n",
    "        \n",
    "        x = self.transformer([x, edge_index])\n",
    "        x = x.view(x_shape)\n",
    "        \n",
    "        x = self.to_cls_token(x[:,0])\n",
    "        x = x.to(device)\n",
    "        \n",
    "        out = self.mlp_head(x)\n",
    "        \n",
    "        return out"
   ]
  },
  {
   "cell_type": "code",
   "execution_count": 54,
   "id": "b346c02f",
   "metadata": {},
   "outputs": [
    {
     "data": {
      "text/html": [
       "Finishing last run (ID:34i62d62) before initializing another..."
      ],
      "text/plain": [
       "<IPython.core.display.HTML object>"
      ]
     },
     "metadata": {},
     "output_type": "display_data"
    },
    {
     "data": {
      "text/html": [
       "Waiting for W&B process to finish... <strong style=\"color:green\">(success).</strong>"
      ],
      "text/plain": [
       "<IPython.core.display.HTML object>"
      ]
     },
     "metadata": {},
     "output_type": "display_data"
    },
    {
     "data": {
      "application/vnd.jupyter.widget-view+json": {
       "model_id": "",
       "version_major": 2,
       "version_minor": 0
      },
      "text/plain": [
       "VBox(children=(Label(value='0.001 MB of 0.001 MB uploaded (0.000 MB deduped)\\r'), FloatProgress(value=1.0, max…"
      ]
     },
     "metadata": {},
     "output_type": "display_data"
    },
    {
     "data": {
      "text/html": [
       "<style>\n",
       "    table.wandb td:nth-child(1) { padding: 0 10px; text-align: left ; width: auto;} td:nth-child(2) {text-align: left ; width: 100%}\n",
       "    .wandb-row { display: flex; flex-direction: row; flex-wrap: wrap; justify-content: flex-start; width: 100% }\n",
       "    .wandb-col { display: flex; flex-direction: column; flex-basis: 100%; flex: 1; padding: 10px; }\n",
       "    </style>\n",
       "<div class=\"wandb-row\"><div class=\"wandb-col\"><h3>Run history:</h3><br/><table class=\"wandb\"><tr><td>test_f1_score</td><td>▁</td></tr><tr><td>test_loss</td><td>▁</td></tr><tr><td>train_f1_score</td><td>▂▂▃▅▅▁▂▅▄▇█▆▆▇▇</td></tr><tr><td>train_loss</td><td>█▅▄▃▂█▇▄▃▂▁▁▁▁▂</td></tr></table><br/></div><div class=\"wandb-col\"><h3>Run summary:</h3><br/><table class=\"wandb\"><tr><td>test_f1_score</td><td>0.121</td></tr><tr><td>test_loss</td><td>3710.01685</td></tr><tr><td>train_f1_score</td><td>0.18</td></tr><tr><td>train_loss</td><td>3.66206</td></tr></table><br/></div></div>"
      ],
      "text/plain": [
       "<IPython.core.display.HTML object>"
      ]
     },
     "metadata": {},
     "output_type": "display_data"
    },
    {
     "data": {
      "text/html": [
       "Synced <strong style=\"color:#cdcd00\">amber-forest-9</strong>: <a href=\"https://wandb.ai/njmarko/gat/runs/34i62d62\" target=\"_blank\">https://wandb.ai/njmarko/gat/runs/34i62d62</a><br/>Synced 5 W&B file(s), 0 media file(s), 0 artifact file(s) and 0 other file(s)"
      ],
      "text/plain": [
       "<IPython.core.display.HTML object>"
      ]
     },
     "metadata": {},
     "output_type": "display_data"
    },
    {
     "data": {
      "text/html": [
       "Find logs at: <code>.\\wandb\\run-20220805_211105-34i62d62\\logs</code>"
      ],
      "text/plain": [
       "<IPython.core.display.HTML object>"
      ]
     },
     "metadata": {},
     "output_type": "display_data"
    },
    {
     "data": {
      "text/html": [
       "Successfully finished last run (ID:34i62d62). Initializing new run:<br/>"
      ],
      "text/plain": [
       "<IPython.core.display.HTML object>"
      ]
     },
     "metadata": {},
     "output_type": "display_data"
    },
    {
     "data": {
      "text/html": [
       "Tracking run with wandb version 0.13.0"
      ],
      "text/plain": [
       "<IPython.core.display.HTML object>"
      ]
     },
     "metadata": {},
     "output_type": "display_data"
    },
    {
     "data": {
      "text/html": [
       "Run data is saved locally in <code>C:\\Users\\psiml8\\Desktop\\Projekat\\graph-transformer-psiml\\wandb\\run-20220805_212839-1h5pophl</code>"
      ],
      "text/plain": [
       "<IPython.core.display.HTML object>"
      ]
     },
     "metadata": {},
     "output_type": "display_data"
    },
    {
     "data": {
      "text/html": [
       "Syncing run <strong><a href=\"https://wandb.ai/njmarko/gat/runs/1h5pophl\" target=\"_blank\">rare-donkey-10</a></strong> to <a href=\"https://wandb.ai/njmarko/gat\" target=\"_blank\">Weights & Biases</a> (<a href=\"https://wandb.me/run\" target=\"_blank\">docs</a>)<br/>"
      ],
      "text/plain": [
       "<IPython.core.display.HTML object>"
      ]
     },
     "metadata": {},
     "output_type": "display_data"
    },
    {
     "name": "stdout",
     "output_type": "stream",
     "text": [
      "Files already downloaded and verified\n",
      "Files already downloaded and verified\n"
     ]
    }
   ],
   "source": [
    "torch.manual_seed(42)\n",
    "wandb.init(entity = 'njmarko', project = 'gat')\n",
    "\n",
    "DOWNLOAD_PATH = '/data/mnist'\n",
    "BATCH_SIZE_TRAIN = 100\n",
    "BATCH_SIZE_TEST = 1000\n",
    "\n",
    "transform_mnist = torchvision.transforms.Compose([torchvision.transforms.ToTensor(),\n",
    "                               torchvision.transforms.Normalize((0.1307,), (0.3081,))])\n",
    "train_set = torchvision.datasets.CIFAR100(DOWNLOAD_PATH, train=True, download=True,\n",
    "                                       transform=transform_mnist)\n",
    "train_loader = torch.utils.data.DataLoader(train_set, batch_size=BATCH_SIZE_TRAIN, shuffle=True)\n",
    "\n",
    "test_set = torchvision.datasets.CIFAR100(DOWNLOAD_PATH, train=False, download=True,\n",
    "                                      transform=transform_mnist)\n",
    "test_loader = torch.utils.data.DataLoader(test_set, batch_size=BATCH_SIZE_TEST, shuffle=True)"
   ]
  },
  {
   "cell_type": "code",
   "execution_count": 66,
   "id": "47c7a4af",
   "metadata": {},
   "outputs": [],
   "source": [
    "def train_epoch(model, optimizer, data_loader, loss_history):\n",
    "    total_samples = len(data_loader.dataset)\n",
    "    model.train()\n",
    "    running_loss = 0.0\n",
    "\n",
    "    correct_samples = 0\n",
    "    for i, (data, target) in enumerate(data_loader):\n",
    "        optimizer.zero_grad()\n",
    "        output = F.log_softmax(model(data), dim=1)\n",
    "        target = target.to(device)\n",
    "        output = output.to(device)\n",
    "        \n",
    "        _, pred = torch.max(output, dim=1)\n",
    "        \n",
    "        loss = F.nll_loss(output, target)\n",
    "        loss.backward()\n",
    "        optimizer.step()\n",
    "        running_loss += loss.item()\n",
    "        \n",
    "        correct_samples += pred.eq(target).sum()\n",
    "        target = target.cpu().detach().numpy()\n",
    "        pred = pred.cpu().detach().numpy()\n",
    "        \n",
    "#         print(output)\n",
    "#         print('trarget')\n",
    "#         print(target)\n",
    "#         print('pred')\n",
    "#         print(pred)\n",
    "        \n",
    "        f1_score = metrics.f1_score(target, pred, average='micro')\n",
    "\n",
    "        if i % 100 == 0:\n",
    "            print('[' +  '{:5}'.format(i * len(data)) + '/' + '{:5}'.format(total_samples) +\n",
    "                  ' (' + '{:3.0f}'.format(100 * i / len(data_loader)) + '%)]  Loss: ' +\n",
    "                  '{:6.4f}'.format(loss.item()))\n",
    "            loss_history.append(loss.item())\n",
    "            wandb.log({\n",
    "                'train_loss': loss.item(),\n",
    "                'train_f1_score': f1_score\n",
    "            })\n",
    "            \n",
    "    acc = 100.0 * correct_samples / total_samples\n",
    "    print(f'Accuracy: ' + '{:4.2f}'.format(acc) + '%')"
   ]
  },
  {
   "cell_type": "code",
   "execution_count": 67,
   "id": "51a6ac55",
   "metadata": {},
   "outputs": [],
   "source": [
    "def evaluate(model, data_loader, loss_history):\n",
    "    model.eval()\n",
    "    \n",
    "    total_samples = len(data_loader.dataset)\n",
    "    correct_samples = 0\n",
    "    total_loss = 0\n",
    "\n",
    "    with torch.no_grad():\n",
    "        for data, target in data_loader:\n",
    "            res = model(data)\n",
    "            res = res.to(device)\n",
    "            output = F.log_softmax(res, dim=1)\n",
    "            target = target.to(device)\n",
    "            output = output.to(device)\n",
    "            loss = F.nll_loss(output, target, reduction='sum')\n",
    "            _, pred = torch.max(output, dim=1)\n",
    "                        \n",
    "            total_loss += loss.item()\n",
    "            correct_samples += pred.eq(target).sum()\n",
    "\n",
    "    avg_loss = total_loss / total_samples\n",
    "    acc = 100.0 * correct_samples / total_samples\n",
    "    loss_history.append(avg_loss)\n",
    "    \n",
    "    target = target.cpu().detach().numpy()\n",
    "    pred = pred.cpu().detach().numpy()\n",
    "    f1_score = metrics.f1_score(target, pred, average='micro')\n",
    "    \n",
    "    wandb.log({\n",
    "        'test_loss': loss.item(),\n",
    "        'test_f1_score': f1_score\n",
    "    })\n",
    "    print('\\nAverage test loss: ' + '{:.4f}'.format(avg_loss) +\n",
    "          '  Accuracy:' + '{:5}'.format(correct_samples) + '/' +\n",
    "          '{:5}'.format(total_samples) + ' (' +\n",
    "          '{:4.2f}'.format(acc) + '%)\\n')"
   ]
  },
  {
   "cell_type": "code",
   "execution_count": 69,
   "id": "7dbe6de3",
   "metadata": {
    "scrolled": true
   },
   "outputs": [
    {
     "name": "stdout",
     "output_type": "stream",
     "text": [
      "Epoch: 1\n",
      "[    0/50000 (  0%)]  Loss: 4.6381\n",
      "[10000/50000 ( 20%)]  Loss: 4.2153\n",
      "[20000/50000 ( 40%)]  Loss: 3.8910\n",
      "[30000/50000 ( 60%)]  Loss: 3.8052\n",
      "[40000/50000 ( 80%)]  Loss: 3.8139\n",
      "Accuracy: 8.07%\n",
      "\n",
      "Average test loss: 3.7021  Accuracy: 1259/10000 (12.59%)\n",
      "\n",
      "Epoch: 2\n",
      "[    0/50000 (  0%)]  Loss: 3.5227\n",
      "[10000/50000 ( 20%)]  Loss: 3.7202\n",
      "[20000/50000 ( 40%)]  Loss: 3.7591\n",
      "[30000/50000 ( 60%)]  Loss: 3.4093\n",
      "[40000/50000 ( 80%)]  Loss: 3.5381\n",
      "Accuracy: 15.90%\n",
      "\n",
      "Average test loss: 3.4125  Accuracy: 1812/10000 (18.12%)\n",
      "\n",
      "Epoch: 3\n",
      "[    0/50000 (  0%)]  Loss: 3.1267\n",
      "[10000/50000 ( 20%)]  Loss: 3.3339\n",
      "[20000/50000 ( 40%)]  Loss: 3.2832\n",
      "[30000/50000 ( 60%)]  Loss: 3.3501\n",
      "[40000/50000 ( 80%)]  Loss: 3.1054\n",
      "Accuracy: 19.78%\n",
      "\n",
      "Average test loss: 3.2486  Accuracy: 2152/10000 (21.52%)\n",
      "\n",
      "Epoch: 4\n",
      "[    0/50000 (  0%)]  Loss: 2.9582\n",
      "[10000/50000 ( 20%)]  Loss: 2.8247\n",
      "[20000/50000 ( 40%)]  Loss: 3.1038\n",
      "[30000/50000 ( 60%)]  Loss: 3.1644\n",
      "[40000/50000 ( 80%)]  Loss: 2.9556\n",
      "Accuracy: 22.04%\n",
      "\n",
      "Average test loss: 3.1271  Accuracy: 2359/10000 (23.59%)\n",
      "\n",
      "Epoch: 5\n",
      "[    0/50000 (  0%)]  Loss: 2.7218\n",
      "[10000/50000 ( 20%)]  Loss: 2.8725\n",
      "[20000/50000 ( 40%)]  Loss: 3.1122\n",
      "[30000/50000 ( 60%)]  Loss: 2.5033\n",
      "[40000/50000 ( 80%)]  Loss: 2.8972\n",
      "Accuracy: 24.32%\n",
      "\n",
      "Average test loss: 3.0618  Accuracy: 2506/10000 (25.06%)\n",
      "\n",
      "Epoch: 6\n",
      "[    0/50000 (  0%)]  Loss: 2.7251\n",
      "[10000/50000 ( 20%)]  Loss: 2.8754\n",
      "[20000/50000 ( 40%)]  Loss: 2.8764\n",
      "[30000/50000 ( 60%)]  Loss: 2.7831\n",
      "[40000/50000 ( 80%)]  Loss: 2.7216\n",
      "Accuracy: 26.45%\n",
      "\n",
      "Average test loss: 3.0605  Accuracy: 2528/10000 (25.28%)\n",
      "\n",
      "Epoch: 7\n",
      "[    0/50000 (  0%)]  Loss: 2.7646\n",
      "[10000/50000 ( 20%)]  Loss: 2.7133\n",
      "[20000/50000 ( 40%)]  Loss: 2.6488\n",
      "[30000/50000 ( 60%)]  Loss: 2.7086\n",
      "[40000/50000 ( 80%)]  Loss: 2.7603\n",
      "Accuracy: 28.05%\n",
      "\n",
      "Average test loss: 2.9799  Accuracy: 2706/10000 (27.06%)\n",
      "\n",
      "Epoch: 8\n",
      "[    0/50000 (  0%)]  Loss: 2.7046\n",
      "[10000/50000 ( 20%)]  Loss: 2.9258\n",
      "[20000/50000 ( 40%)]  Loss: 2.9260\n",
      "[30000/50000 ( 60%)]  Loss: 2.8488\n",
      "[40000/50000 ( 80%)]  Loss: 2.7812\n",
      "Accuracy: 29.97%\n",
      "\n",
      "Average test loss: 2.9446  Accuracy: 2712/10000 (27.12%)\n",
      "\n",
      "Epoch: 9\n",
      "[    0/50000 (  0%)]  Loss: 2.4992\n",
      "[10000/50000 ( 20%)]  Loss: 2.7148\n",
      "[20000/50000 ( 40%)]  Loss: 2.5643\n",
      "[30000/50000 ( 60%)]  Loss: 2.6882\n",
      "[40000/50000 ( 80%)]  Loss: 2.3947\n",
      "Accuracy: 31.84%\n",
      "\n",
      "Average test loss: 3.0076  Accuracy: 2738/10000 (27.38%)\n",
      "\n",
      "Epoch: 10\n",
      "[    0/50000 (  0%)]  Loss: 2.5731\n",
      "[10000/50000 ( 20%)]  Loss: 2.1830\n",
      "[20000/50000 ( 40%)]  Loss: 2.5297\n",
      "[30000/50000 ( 60%)]  Loss: 2.6541\n",
      "[40000/50000 ( 80%)]  Loss: 2.5573\n",
      "Accuracy: 33.09%\n",
      "\n",
      "Average test loss: 2.9432  Accuracy: 2853/10000 (28.53%)\n",
      "\n",
      "Epoch: 11\n",
      "[    0/50000 (  0%)]  Loss: 2.6082\n",
      "[10000/50000 ( 20%)]  Loss: 2.4258\n",
      "[20000/50000 ( 40%)]  Loss: 2.7509\n",
      "[30000/50000 ( 60%)]  Loss: 2.5096\n",
      "[40000/50000 ( 80%)]  Loss: 2.4803\n",
      "Accuracy: 34.78%\n",
      "\n",
      "Average test loss: 2.9484  Accuracy: 2842/10000 (28.42%)\n",
      "\n",
      "Epoch: 12\n",
      "[    0/50000 (  0%)]  Loss: 2.2371\n",
      "[10000/50000 ( 20%)]  Loss: 2.5334\n",
      "[20000/50000 ( 40%)]  Loss: 2.5050\n",
      "[30000/50000 ( 60%)]  Loss: 2.6960\n",
      "[40000/50000 ( 80%)]  Loss: 2.7584\n",
      "Accuracy: 36.67%\n",
      "\n",
      "Average test loss: 2.9688  Accuracy: 2903/10000 (29.03%)\n",
      "\n",
      "Epoch: 13\n",
      "[    0/50000 (  0%)]  Loss: 2.3754\n",
      "[10000/50000 ( 20%)]  Loss: 2.1438\n",
      "[20000/50000 ( 40%)]  Loss: 2.5337\n",
      "[30000/50000 ( 60%)]  Loss: 2.2725\n",
      "[40000/50000 ( 80%)]  Loss: 2.3363\n",
      "Accuracy: 38.17%\n",
      "\n",
      "Average test loss: 2.9580  Accuracy: 2870/10000 (28.70%)\n",
      "\n",
      "Epoch: 14\n",
      "[    0/50000 (  0%)]  Loss: 2.2443\n"
     ]
    },
    {
     "ename": "KeyboardInterrupt",
     "evalue": "",
     "output_type": "error",
     "traceback": [
      "\u001b[1;31m---------------------------------------------------------------------------\u001b[0m",
      "\u001b[1;31mKeyboardInterrupt\u001b[0m                         Traceback (most recent call last)",
      "Input \u001b[1;32mIn [69]\u001b[0m, in \u001b[0;36m<cell line: 10>\u001b[1;34m()\u001b[0m\n\u001b[0;32m     10\u001b[0m \u001b[38;5;28;01mfor\u001b[39;00m epoch \u001b[38;5;129;01min\u001b[39;00m \u001b[38;5;28mrange\u001b[39m(\u001b[38;5;241m1\u001b[39m, N_EPOCHS \u001b[38;5;241m+\u001b[39m \u001b[38;5;241m1\u001b[39m):\n\u001b[0;32m     11\u001b[0m     \u001b[38;5;28mprint\u001b[39m(\u001b[38;5;124m'\u001b[39m\u001b[38;5;124mEpoch:\u001b[39m\u001b[38;5;124m'\u001b[39m, epoch)\n\u001b[1;32m---> 12\u001b[0m     \u001b[43mtrain_epoch\u001b[49m\u001b[43m(\u001b[49m\u001b[43mmodel\u001b[49m\u001b[43m,\u001b[49m\u001b[43m \u001b[49m\u001b[43moptimizer\u001b[49m\u001b[43m,\u001b[49m\u001b[43m \u001b[49m\u001b[43mtrain_loader\u001b[49m\u001b[43m,\u001b[49m\u001b[43m \u001b[49m\u001b[43mtrain_loss_history\u001b[49m\u001b[43m)\u001b[49m\n\u001b[0;32m     13\u001b[0m     evaluate(model, test_loader, test_loss_history)\n\u001b[0;32m     14\u001b[0m     torch\u001b[38;5;241m.\u001b[39msave(model\u001b[38;5;241m.\u001b[39mstate_dict(), os\u001b[38;5;241m.\u001b[39mpath\u001b[38;5;241m.\u001b[39mjoin(\u001b[38;5;124m'\u001b[39m\u001b[38;5;124mmodels\u001b[39m\u001b[38;5;124m'\u001b[39m, \u001b[38;5;124mf\u001b[39m\u001b[38;5;124m'\u001b[39m\u001b[38;5;124mtrain\u001b[39m\u001b[38;5;132;01m{\u001b[39;00mepoch\u001b[38;5;132;01m}\u001b[39;00m\u001b[38;5;124m'\u001b[39m))\n",
      "Input \u001b[1;32mIn [66]\u001b[0m, in \u001b[0;36mtrain_epoch\u001b[1;34m(model, optimizer, data_loader, loss_history)\u001b[0m\n\u001b[0;32m     15\u001b[0m loss \u001b[38;5;241m=\u001b[39m F\u001b[38;5;241m.\u001b[39mnll_loss(output, target)\n\u001b[0;32m     16\u001b[0m loss\u001b[38;5;241m.\u001b[39mbackward()\n\u001b[1;32m---> 17\u001b[0m \u001b[43moptimizer\u001b[49m\u001b[38;5;241;43m.\u001b[39;49m\u001b[43mstep\u001b[49m\u001b[43m(\u001b[49m\u001b[43m)\u001b[49m\n\u001b[0;32m     18\u001b[0m running_loss \u001b[38;5;241m+\u001b[39m\u001b[38;5;241m=\u001b[39m loss\u001b[38;5;241m.\u001b[39mitem()\n\u001b[0;32m     20\u001b[0m correct_samples \u001b[38;5;241m+\u001b[39m\u001b[38;5;241m=\u001b[39m pred\u001b[38;5;241m.\u001b[39meq(target)\u001b[38;5;241m.\u001b[39msum()\n",
      "File \u001b[1;32m~\\AppData\\Local\\Programs\\Python\\Python39\\lib\\site-packages\\torch\\optim\\optimizer.py:109\u001b[0m, in \u001b[0;36mOptimizer._hook_for_profile.<locals>.profile_hook_step.<locals>.wrapper\u001b[1;34m(*args, **kwargs)\u001b[0m\n\u001b[0;32m    107\u001b[0m profile_name \u001b[38;5;241m=\u001b[39m \u001b[38;5;124m\"\u001b[39m\u001b[38;5;124mOptimizer.step#\u001b[39m\u001b[38;5;132;01m{}\u001b[39;00m\u001b[38;5;124m.step\u001b[39m\u001b[38;5;124m\"\u001b[39m\u001b[38;5;241m.\u001b[39mformat(obj\u001b[38;5;241m.\u001b[39m\u001b[38;5;18m__class__\u001b[39m\u001b[38;5;241m.\u001b[39m\u001b[38;5;18m__name__\u001b[39m)\n\u001b[0;32m    108\u001b[0m \u001b[38;5;28;01mwith\u001b[39;00m torch\u001b[38;5;241m.\u001b[39mautograd\u001b[38;5;241m.\u001b[39mprofiler\u001b[38;5;241m.\u001b[39mrecord_function(profile_name):\n\u001b[1;32m--> 109\u001b[0m     \u001b[38;5;28;01mreturn\u001b[39;00m func(\u001b[38;5;241m*\u001b[39margs, \u001b[38;5;241m*\u001b[39m\u001b[38;5;241m*\u001b[39mkwargs)\n",
      "File \u001b[1;32m~\\AppData\\Local\\Programs\\Python\\Python39\\lib\\site-packages\\torch\\autograd\\grad_mode.py:27\u001b[0m, in \u001b[0;36m_DecoratorContextManager.__call__.<locals>.decorate_context\u001b[1;34m(*args, **kwargs)\u001b[0m\n\u001b[0;32m     24\u001b[0m \u001b[38;5;129m@functools\u001b[39m\u001b[38;5;241m.\u001b[39mwraps(func)\n\u001b[0;32m     25\u001b[0m \u001b[38;5;28;01mdef\u001b[39;00m \u001b[38;5;21mdecorate_context\u001b[39m(\u001b[38;5;241m*\u001b[39margs, \u001b[38;5;241m*\u001b[39m\u001b[38;5;241m*\u001b[39mkwargs):\n\u001b[0;32m     26\u001b[0m     \u001b[38;5;28;01mwith\u001b[39;00m \u001b[38;5;28mself\u001b[39m\u001b[38;5;241m.\u001b[39mclone():\n\u001b[1;32m---> 27\u001b[0m         \u001b[38;5;28;01mreturn\u001b[39;00m func(\u001b[38;5;241m*\u001b[39margs, \u001b[38;5;241m*\u001b[39m\u001b[38;5;241m*\u001b[39mkwargs)\n",
      "File \u001b[1;32m~\\AppData\\Local\\Programs\\Python\\Python39\\lib\\site-packages\\torch\\optim\\adam.py:157\u001b[0m, in \u001b[0;36mAdam.step\u001b[1;34m(self, closure)\u001b[0m\n\u001b[0;32m    153\u001b[0m                 max_exp_avg_sqs\u001b[38;5;241m.\u001b[39mappend(state[\u001b[38;5;124m'\u001b[39m\u001b[38;5;124mmax_exp_avg_sq\u001b[39m\u001b[38;5;124m'\u001b[39m])\n\u001b[0;32m    155\u001b[0m             state_steps\u001b[38;5;241m.\u001b[39mappend(state[\u001b[38;5;124m'\u001b[39m\u001b[38;5;124mstep\u001b[39m\u001b[38;5;124m'\u001b[39m])\n\u001b[1;32m--> 157\u001b[0m     \u001b[43madam\u001b[49m\u001b[43m(\u001b[49m\u001b[43mparams_with_grad\u001b[49m\u001b[43m,\u001b[49m\n\u001b[0;32m    158\u001b[0m \u001b[43m         \u001b[49m\u001b[43mgrads\u001b[49m\u001b[43m,\u001b[49m\n\u001b[0;32m    159\u001b[0m \u001b[43m         \u001b[49m\u001b[43mexp_avgs\u001b[49m\u001b[43m,\u001b[49m\n\u001b[0;32m    160\u001b[0m \u001b[43m         \u001b[49m\u001b[43mexp_avg_sqs\u001b[49m\u001b[43m,\u001b[49m\n\u001b[0;32m    161\u001b[0m \u001b[43m         \u001b[49m\u001b[43mmax_exp_avg_sqs\u001b[49m\u001b[43m,\u001b[49m\n\u001b[0;32m    162\u001b[0m \u001b[43m         \u001b[49m\u001b[43mstate_steps\u001b[49m\u001b[43m,\u001b[49m\n\u001b[0;32m    163\u001b[0m \u001b[43m         \u001b[49m\u001b[43mamsgrad\u001b[49m\u001b[38;5;241;43m=\u001b[39;49m\u001b[43mgroup\u001b[49m\u001b[43m[\u001b[49m\u001b[38;5;124;43m'\u001b[39;49m\u001b[38;5;124;43mamsgrad\u001b[39;49m\u001b[38;5;124;43m'\u001b[39;49m\u001b[43m]\u001b[49m\u001b[43m,\u001b[49m\n\u001b[0;32m    164\u001b[0m \u001b[43m         \u001b[49m\u001b[43mbeta1\u001b[49m\u001b[38;5;241;43m=\u001b[39;49m\u001b[43mbeta1\u001b[49m\u001b[43m,\u001b[49m\n\u001b[0;32m    165\u001b[0m \u001b[43m         \u001b[49m\u001b[43mbeta2\u001b[49m\u001b[38;5;241;43m=\u001b[39;49m\u001b[43mbeta2\u001b[49m\u001b[43m,\u001b[49m\n\u001b[0;32m    166\u001b[0m \u001b[43m         \u001b[49m\u001b[43mlr\u001b[49m\u001b[38;5;241;43m=\u001b[39;49m\u001b[43mgroup\u001b[49m\u001b[43m[\u001b[49m\u001b[38;5;124;43m'\u001b[39;49m\u001b[38;5;124;43mlr\u001b[39;49m\u001b[38;5;124;43m'\u001b[39;49m\u001b[43m]\u001b[49m\u001b[43m,\u001b[49m\n\u001b[0;32m    167\u001b[0m \u001b[43m         \u001b[49m\u001b[43mweight_decay\u001b[49m\u001b[38;5;241;43m=\u001b[39;49m\u001b[43mgroup\u001b[49m\u001b[43m[\u001b[49m\u001b[38;5;124;43m'\u001b[39;49m\u001b[38;5;124;43mweight_decay\u001b[39;49m\u001b[38;5;124;43m'\u001b[39;49m\u001b[43m]\u001b[49m\u001b[43m,\u001b[49m\n\u001b[0;32m    168\u001b[0m \u001b[43m         \u001b[49m\u001b[43meps\u001b[49m\u001b[38;5;241;43m=\u001b[39;49m\u001b[43mgroup\u001b[49m\u001b[43m[\u001b[49m\u001b[38;5;124;43m'\u001b[39;49m\u001b[38;5;124;43meps\u001b[39;49m\u001b[38;5;124;43m'\u001b[39;49m\u001b[43m]\u001b[49m\u001b[43m,\u001b[49m\n\u001b[0;32m    169\u001b[0m \u001b[43m         \u001b[49m\u001b[43mmaximize\u001b[49m\u001b[38;5;241;43m=\u001b[39;49m\u001b[43mgroup\u001b[49m\u001b[43m[\u001b[49m\u001b[38;5;124;43m'\u001b[39;49m\u001b[38;5;124;43mmaximize\u001b[39;49m\u001b[38;5;124;43m'\u001b[39;49m\u001b[43m]\u001b[49m\u001b[43m,\u001b[49m\n\u001b[0;32m    170\u001b[0m \u001b[43m         \u001b[49m\u001b[43mforeach\u001b[49m\u001b[38;5;241;43m=\u001b[39;49m\u001b[43mgroup\u001b[49m\u001b[43m[\u001b[49m\u001b[38;5;124;43m'\u001b[39;49m\u001b[38;5;124;43mforeach\u001b[39;49m\u001b[38;5;124;43m'\u001b[39;49m\u001b[43m]\u001b[49m\u001b[43m,\u001b[49m\n\u001b[0;32m    171\u001b[0m \u001b[43m         \u001b[49m\u001b[43mcapturable\u001b[49m\u001b[38;5;241;43m=\u001b[39;49m\u001b[43mgroup\u001b[49m\u001b[43m[\u001b[49m\u001b[38;5;124;43m'\u001b[39;49m\u001b[38;5;124;43mcapturable\u001b[39;49m\u001b[38;5;124;43m'\u001b[39;49m\u001b[43m]\u001b[49m\u001b[43m)\u001b[49m\n\u001b[0;32m    173\u001b[0m \u001b[38;5;28;01mreturn\u001b[39;00m loss\n",
      "File \u001b[1;32m~\\AppData\\Local\\Programs\\Python\\Python39\\lib\\site-packages\\torch\\optim\\adam.py:213\u001b[0m, in \u001b[0;36madam\u001b[1;34m(params, grads, exp_avgs, exp_avg_sqs, max_exp_avg_sqs, state_steps, foreach, capturable, amsgrad, beta1, beta2, lr, weight_decay, eps, maximize)\u001b[0m\n\u001b[0;32m    210\u001b[0m \u001b[38;5;28;01melse\u001b[39;00m:\n\u001b[0;32m    211\u001b[0m     func \u001b[38;5;241m=\u001b[39m _single_tensor_adam\n\u001b[1;32m--> 213\u001b[0m \u001b[43mfunc\u001b[49m\u001b[43m(\u001b[49m\u001b[43mparams\u001b[49m\u001b[43m,\u001b[49m\n\u001b[0;32m    214\u001b[0m \u001b[43m     \u001b[49m\u001b[43mgrads\u001b[49m\u001b[43m,\u001b[49m\n\u001b[0;32m    215\u001b[0m \u001b[43m     \u001b[49m\u001b[43mexp_avgs\u001b[49m\u001b[43m,\u001b[49m\n\u001b[0;32m    216\u001b[0m \u001b[43m     \u001b[49m\u001b[43mexp_avg_sqs\u001b[49m\u001b[43m,\u001b[49m\n\u001b[0;32m    217\u001b[0m \u001b[43m     \u001b[49m\u001b[43mmax_exp_avg_sqs\u001b[49m\u001b[43m,\u001b[49m\n\u001b[0;32m    218\u001b[0m \u001b[43m     \u001b[49m\u001b[43mstate_steps\u001b[49m\u001b[43m,\u001b[49m\n\u001b[0;32m    219\u001b[0m \u001b[43m     \u001b[49m\u001b[43mamsgrad\u001b[49m\u001b[38;5;241;43m=\u001b[39;49m\u001b[43mamsgrad\u001b[49m\u001b[43m,\u001b[49m\n\u001b[0;32m    220\u001b[0m \u001b[43m     \u001b[49m\u001b[43mbeta1\u001b[49m\u001b[38;5;241;43m=\u001b[39;49m\u001b[43mbeta1\u001b[49m\u001b[43m,\u001b[49m\n\u001b[0;32m    221\u001b[0m \u001b[43m     \u001b[49m\u001b[43mbeta2\u001b[49m\u001b[38;5;241;43m=\u001b[39;49m\u001b[43mbeta2\u001b[49m\u001b[43m,\u001b[49m\n\u001b[0;32m    222\u001b[0m \u001b[43m     \u001b[49m\u001b[43mlr\u001b[49m\u001b[38;5;241;43m=\u001b[39;49m\u001b[43mlr\u001b[49m\u001b[43m,\u001b[49m\n\u001b[0;32m    223\u001b[0m \u001b[43m     \u001b[49m\u001b[43mweight_decay\u001b[49m\u001b[38;5;241;43m=\u001b[39;49m\u001b[43mweight_decay\u001b[49m\u001b[43m,\u001b[49m\n\u001b[0;32m    224\u001b[0m \u001b[43m     \u001b[49m\u001b[43meps\u001b[49m\u001b[38;5;241;43m=\u001b[39;49m\u001b[43meps\u001b[49m\u001b[43m,\u001b[49m\n\u001b[0;32m    225\u001b[0m \u001b[43m     \u001b[49m\u001b[43mmaximize\u001b[49m\u001b[38;5;241;43m=\u001b[39;49m\u001b[43mmaximize\u001b[49m\u001b[43m,\u001b[49m\n\u001b[0;32m    226\u001b[0m \u001b[43m     \u001b[49m\u001b[43mcapturable\u001b[49m\u001b[38;5;241;43m=\u001b[39;49m\u001b[43mcapturable\u001b[49m\u001b[43m)\u001b[49m\n",
      "File \u001b[1;32m~\\AppData\\Local\\Programs\\Python\\Python39\\lib\\site-packages\\torch\\optim\\adam.py:307\u001b[0m, in \u001b[0;36m_single_tensor_adam\u001b[1;34m(params, grads, exp_avgs, exp_avg_sqs, max_exp_avg_sqs, state_steps, amsgrad, beta1, beta2, lr, weight_decay, eps, maximize, capturable)\u001b[0m\n\u001b[0;32m    305\u001b[0m     denom \u001b[38;5;241m=\u001b[39m (max_exp_avg_sqs[i]\u001b[38;5;241m.\u001b[39msqrt() \u001b[38;5;241m/\u001b[39m bias_correction2_sqrt)\u001b[38;5;241m.\u001b[39madd_(eps)\n\u001b[0;32m    306\u001b[0m \u001b[38;5;28;01melse\u001b[39;00m:\n\u001b[1;32m--> 307\u001b[0m     denom \u001b[38;5;241m=\u001b[39m \u001b[43m(\u001b[49m\u001b[43mexp_avg_sq\u001b[49m\u001b[38;5;241;43m.\u001b[39;49m\u001b[43msqrt\u001b[49m\u001b[43m(\u001b[49m\u001b[43m)\u001b[49m\u001b[43m \u001b[49m\u001b[38;5;241;43m/\u001b[39;49m\u001b[43m \u001b[49m\u001b[43mbias_correction2_sqrt\u001b[49m\u001b[43m)\u001b[49m\u001b[38;5;241;43m.\u001b[39;49m\u001b[43madd_\u001b[49m\u001b[43m(\u001b[49m\u001b[43meps\u001b[49m\u001b[43m)\u001b[49m\n\u001b[0;32m    309\u001b[0m param\u001b[38;5;241m.\u001b[39maddcdiv_(exp_avg, denom, value\u001b[38;5;241m=\u001b[39m\u001b[38;5;241m-\u001b[39mstep_size)\n",
      "\u001b[1;31mKeyboardInterrupt\u001b[0m: "
     ]
    }
   ],
   "source": [
    "N_EPOCHS = 25\n",
    "\n",
    "start_time = time.time()\n",
    "model = GraphViT(image_size=32, patch_size=8, num_classes=100, channels=3,\n",
    "            dim=64, depth=6, heads=8, mlp_dim=128)\n",
    "optimizer = optim.Adam(model.parameters(), lr=0.003)\n",
    "model = model.to(device)\n",
    "\n",
    "train_loss_history, test_loss_history = [], []\n",
    "for epoch in range(1, N_EPOCHS + 1):\n",
    "    print('Epoch:', epoch)\n",
    "    train_epoch(model, optimizer, train_loader, train_loss_history)\n",
    "    evaluate(model, test_loader, test_loss_history)\n",
    "    torch.save(model.state_dict(), os.path.join('models', f'train{epoch}'))\n",
    "\n",
    "print('Execution time:', '{:5.2f}'.format(time.time() - start_time), 'seconds')"
   ]
  },
  {
   "cell_type": "code",
   "execution_count": 37,
   "id": "f726f069",
   "metadata": {},
   "outputs": [],
   "source": [
    "t1 = torch.ones(1,3,4)\n",
    "t3 = torch.ones(1,3,4) * 2\n",
    "t1 = torch.cat((t1,t3), dim=0)"
   ]
  },
  {
   "cell_type": "code",
   "execution_count": null,
   "id": "5559a9fe",
   "metadata": {},
   "outputs": [],
   "source": [
    "t1.shape"
   ]
  },
  {
   "cell_type": "code",
   "execution_count": null,
   "id": "8592df92",
   "metadata": {},
   "outputs": [],
   "source": [
    "t1"
   ]
  },
  {
   "cell_type": "code",
   "execution_count": null,
   "id": "c11984a8",
   "metadata": {},
   "outputs": [],
   "source": [
    "t2 = t1.view(t1.shape[0]* t1.shape[1], t1.shape[2])"
   ]
  },
  {
   "cell_type": "code",
   "execution_count": null,
   "id": "3bd8fbf9",
   "metadata": {},
   "outputs": [],
   "source": [
    "t2"
   ]
  },
  {
   "cell_type": "code",
   "execution_count": null,
   "id": "64f0e9bb",
   "metadata": {},
   "outputs": [],
   "source": [
    "t2.shape"
   ]
  },
  {
   "cell_type": "code",
   "execution_count": null,
   "id": "944cf5e0",
   "metadata": {},
   "outputs": [],
   "source": [
    "t4 = t2.view((2, 3, 4))\n",
    "print(t4.shape)"
   ]
  },
  {
   "cell_type": "code",
   "execution_count": null,
   "id": "10c5a260",
   "metadata": {},
   "outputs": [],
   "source": [
    "x = torch.zeros(2, t2.shape[0] * t1.shape[1])\n",
    "for i in range(t2.shape[0]):\n",
    "    for j in range(t1.shape[1]):\n",
    "#         print(f'v1 {i}')\n",
    "#         print(f'v2 {t1.shape[1] * (i // t1.shape[1]) + j}\\n')\n",
    "        x[0, i*t1.shape[1] + j] = i\n",
    "        x[1, i*t1.shape[1] + j] = t1.shape[1] * (i // t1.shape[1]) + j\n",
    "print(x)"
   ]
  },
  {
   "cell_type": "code",
   "execution_count": null,
   "id": "996c5389",
   "metadata": {},
   "outputs": [],
   "source": []
  }
 ],
 "metadata": {
  "kernelspec": {
   "display_name": "Python 3 (ipykernel)",
   "language": "python",
   "name": "python3"
  },
  "language_info": {
   "codemirror_mode": {
    "name": "ipython",
    "version": 3
   },
   "file_extension": ".py",
   "mimetype": "text/x-python",
   "name": "python",
   "nbconvert_exporter": "python",
   "pygments_lexer": "ipython3",
   "version": "3.9.13"
  }
 },
 "nbformat": 4,
 "nbformat_minor": 5
}
