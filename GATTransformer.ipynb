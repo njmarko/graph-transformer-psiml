{
 "cells": [
  {
   "cell_type": "markdown",
   "id": "ccca774a",
   "metadata": {},
   "source": [
    "## Custom GNN Transformer architecture"
   ]
  },
  {
   "cell_type": "code",
   "execution_count": 1,
   "id": "e37cf507",
   "metadata": {},
   "outputs": [],
   "source": [
    "import torch\n",
    "import torch.nn as nn\n",
    "import time\n",
    "from torch import optim\n",
    "import torch.nn.functional as F\n",
    "import torch_geometric\n",
    "from torch_geometric.nn import GATConv, GATv2Conv\n",
    "import torchvision\n",
    "from einops import rearrange\n",
    "import wandb\n",
    "\n",
    "device = 'cuda' if torch.cuda.is_available() else 'cpu'"
   ]
  },
  {
   "cell_type": "code",
   "execution_count": 2,
   "id": "de952e9f",
   "metadata": {},
   "outputs": [],
   "source": [
    "class Residual(nn.Module):\n",
    "    def __init__(self, fn):\n",
    "        super().__init__()\n",
    "        self.fn = fn\n",
    "\n",
    "    def forward(self, x, **kwargs):\n",
    "        return self.fn(x, **kwargs) + x\n",
    "\n",
    "class PreNorm(nn.Module):\n",
    "    def __init__(self, dim, fn):\n",
    "        super().__init__()\n",
    "        self.norm = nn.LayerNorm(dim)\n",
    "        self.fn = fn\n",
    "\n",
    "    def forward(self, x, **kwargs):\n",
    "        return self.fn(self.norm(x), **kwargs)\n",
    "\n",
    "class FeedForward(nn.Module):\n",
    "    def __init__(self, dim, hidden_dim):\n",
    "        super().__init__()\n",
    "        self.net = nn.Sequential(\n",
    "            nn.Linear(dim, hidden_dim),\n",
    "            nn.GELU(),\n",
    "            nn.Linear(hidden_dim, dim)\n",
    "        )\n",
    "\n",
    "    def forward(self, x, **kwargs):\n",
    "        return self.net(x)\n",
    "    \n",
    "class QuickFix(nn.Module):\n",
    "    def __init__(self, dim, heads, fn):\n",
    "        super().__init__()\n",
    "        self.dim = dim\n",
    "        self.heads = heads\n",
    "        self.linear = nn.Linear(dim * heads, dim)\n",
    "        self.fn = fn\n",
    "        \n",
    "    def forward(self, x, **kwargs):\n",
    "        return self.linear(self.fn(x, **kwargs))"
   ]
  },
  {
   "cell_type": "code",
   "execution_count": 3,
   "id": "6d3d558f",
   "metadata": {},
   "outputs": [],
   "source": [
    "# Out implementation of GAT Transformer\n",
    "\n",
    "class GATTransformer(torch.nn.Module):\n",
    "    def __init__(self, dim, depth, heads, mlp_dim):\n",
    "        super().__init__()\n",
    "        self.layers = nn.ModuleList()\n",
    "        self.depth = depth\n",
    "        for _ in range(depth):\n",
    "            self.layers.append(nn.ModuleList([\n",
    "                Residual(PreNorm(dim, QuickFix(dim, heads, GATv2Conv(in_channels=dim, out_channels=dim, heads=heads, add_self_loops=False)))),\n",
    "                Residual(PreNorm(dim, FeedForward(dim, mlp_dim)))\n",
    "            ]))\n",
    "\n",
    "\n",
    "    def forward(self, data):\n",
    "        x, edge_index = data\n",
    "\n",
    "        for attn, ff in self.layers:\n",
    "            x = attn(x=x, edge_index=edge_index)\n",
    "            x = ff(x)\n",
    "\n",
    "        return x\n"
   ]
  },
  {
   "cell_type": "code",
   "execution_count": 4,
   "id": "82198700",
   "metadata": {},
   "outputs": [],
   "source": [
    "class GraphViT(nn.Module):\n",
    "    def __init__(self, image_size, patch_size, num_classes, dim, depth, heads, mlp_dim, channels=3):\n",
    "        super().__init__()\n",
    "        assert image_size % patch_size == 0, 'image dimensions must be divisible by the patch size'\n",
    "        num_patches = (image_size // patch_size) ** 2\n",
    "        patch_dim = channels * patch_size ** 2\n",
    "        \n",
    "        self.dim = dim\n",
    "\n",
    "        self.patch_size = patch_size\n",
    "        self.num_patches = num_patches\n",
    "        self.pos_embedding = nn.Parameter(torch.randn(1, num_patches + 1, dim))\n",
    "        self.patch_to_embedding = nn.Linear(patch_dim, dim)\n",
    "        self.cls_token = nn.Parameter(torch.randn(1, 1, dim))\n",
    "        self.transformer = GATTransformer(dim, depth, heads, mlp_dim)\n",
    "\n",
    "        self.to_cls_token = nn.Identity()\n",
    "\n",
    "        self.mlp_head = nn.Sequential(\n",
    "            nn.Linear(dim, mlp_dim),\n",
    "            nn.GELU(),\n",
    "            nn.Linear(mlp_dim, num_classes)\n",
    "        )\n",
    "\n",
    "    def forward(self, img, mask=None):\n",
    "        p = self.patch_size\n",
    "\n",
    "        x = rearrange(img, 'b c (h p1) (w p2) -> b (h w) (p1 p2 c)', p1 = p, p2 = p)\n",
    "        x = x.to(device)\n",
    "        x = self.patch_to_embedding(x)\n",
    "        \n",
    "        cls_tokens = self.cls_token.expand(img.shape[0], -1, -1)\n",
    "        cls_tokens = cls_tokens.to(device)\n",
    "        x = torch.cat((cls_tokens, x), dim=1)\n",
    "        x += self.pos_embedding\n",
    "        \n",
    "    \n",
    "        x_shape = x.shape\n",
    "        edge_index = torch.ones((2, x.shape[1]**2*x.shape[0]), dtype=torch.long)\n",
    "        for i in range(x.shape[0]*x.shape[1]):\n",
    "            for j in range(x.shape[1]):\n",
    "                edge_index[0,i*x.shape[1] + j] = i\n",
    "                edge_index[1,i*x.shape[1] + j] = x.shape[1]*(i // x.shape[1]) + j\n",
    "        x = x.view((x.shape[0]*x.shape[1], x.shape[2]))\n",
    "        edge_index = edge_index.to(device)\n",
    "\n",
    "        \n",
    "        x = self.transformer([x, edge_index])\n",
    "        x = x.view(x_shape)\n",
    "        \n",
    "        x = self.to_cls_token(x[:,0])\n",
    "        x = x.to(device)\n",
    "        \n",
    "        out = self.mlp_head(x)\n",
    "        \n",
    "        return out"
   ]
  },
  {
   "cell_type": "code",
   "execution_count": 5,
   "id": "b346c02f",
   "metadata": {},
   "outputs": [
    {
     "name": "stderr",
     "output_type": "stream",
     "text": [
      "\u001b[34m\u001b[1mwandb\u001b[0m: Currently logged in as: \u001b[33mnjmarko\u001b[0m. Use \u001b[1m`wandb login --relogin`\u001b[0m to force relogin\n"
     ]
    },
    {
     "data": {
      "text/html": [
       "Tracking run with wandb version 0.13.0"
      ],
      "text/plain": [
       "<IPython.core.display.HTML object>"
      ]
     },
     "metadata": {},
     "output_type": "display_data"
    },
    {
     "data": {
      "text/html": [
       "Run data is saved locally in <code>C:\\Users\\psiml8\\Desktop\\Projekat\\graph-transformer-psiml\\wandb\\run-20220805_162325-28cmcj5y</code>"
      ],
      "text/plain": [
       "<IPython.core.display.HTML object>"
      ]
     },
     "metadata": {},
     "output_type": "display_data"
    },
    {
     "data": {
      "text/html": [
       "Syncing run <strong><a href=\"https://wandb.ai/njmarko/gat/runs/28cmcj5y\" target=\"_blank\">summer-glade-7</a></strong> to <a href=\"https://wandb.ai/njmarko/gat\" target=\"_blank\">Weights & Biases</a> (<a href=\"https://wandb.me/run\" target=\"_blank\">docs</a>)<br/>"
      ],
      "text/plain": [
       "<IPython.core.display.HTML object>"
      ]
     },
     "metadata": {},
     "output_type": "display_data"
    }
   ],
   "source": [
    "torch.manual_seed(42)\n",
    "wandb.init(entity = 'njmarko', project = 'gat')\n",
    "\n",
    "DOWNLOAD_PATH = '/data/mnist'\n",
    "BATCH_SIZE_TRAIN = 100\n",
    "BATCH_SIZE_TEST = 1000\n",
    "\n",
    "transform_mnist = torchvision.transforms.Compose([torchvision.transforms.ToTensor(),\n",
    "                               torchvision.transforms.Normalize((0.1307,), (0.3081,))])\n",
    "\n",
    "#train_set = torchvision.datasets.MNIST(DOWNLOAD_PATH, train=True, download=True,\n",
    "#                                       transform=transform_mnist)\n",
    "train_set = torchvision.datasets.MNIST(DOWNLOAD_PATH, train=True, download=True,\n",
    "                                       transform=transform_mnist)\n",
    "train_loader = torch.utils.data.DataLoader(train_set, batch_size=BATCH_SIZE_TRAIN, shuffle=True)\n",
    "\n",
    "test_set = torchvision.datasets.MNIST(DOWNLOAD_PATH, train=False, download=True,\n",
    "                                      transform=transform_mnist)\n",
    "test_loader = torch.utils.data.DataLoader(test_set, batch_size=BATCH_SIZE_TEST, shuffle=True)\n",
    "# test_loader = torch_geometric.loader.DataLoader(test_set, batch_size=BATCH_SIZE_TEST, shuffle=True)"
   ]
  },
  {
   "cell_type": "code",
   "execution_count": 6,
   "id": "47c7a4af",
   "metadata": {},
   "outputs": [],
   "source": [
    "\n",
    "def train_epoch(model, optimizer, data_loader, loss_history):\n",
    "    total_samples = len(data_loader.dataset)\n",
    "    model.train()\n",
    "    running_loss = 0.0\n",
    "\n",
    "    for i, (data, target) in enumerate(data_loader):\n",
    "        optimizer.zero_grad()\n",
    "        output = F.log_softmax(model(data), dim=1)\n",
    "        target = target.to(device)\n",
    "        output = output.to(device)\n",
    "        \n",
    "        loss = F.nll_loss(output, target)\n",
    "        loss.backward()\n",
    "        optimizer.step()\n",
    "        running_loss += loss.item()\n",
    "\n",
    "        if i % 100 == 0:\n",
    "            print('[' +  '{:5}'.format(i * len(data)) + '/' + '{:5}'.format(total_samples) +\n",
    "                  ' (' + '{:3.0f}'.format(100 * i / len(data_loader)) + '%)]  Loss: ' +\n",
    "                  '{:6.4f}'.format(loss.item()))\n",
    "            loss_history.append(loss.item())\n",
    "            wandb.log({'train_loss': running_loss/2000})"
   ]
  },
  {
   "cell_type": "code",
   "execution_count": 7,
   "id": "51a6ac55",
   "metadata": {},
   "outputs": [],
   "source": [
    "def evaluate(model, data_loader, loss_history):\n",
    "    model.eval()\n",
    "    \n",
    "    total_samples = len(data_loader.dataset)\n",
    "    correct_samples = 0\n",
    "    total_loss = 0\n",
    "\n",
    "    with torch.no_grad():\n",
    "        for data, target in data_loader:\n",
    "            res = model(data)\n",
    "            res = res.to(device)\n",
    "            output = F.log_softmax(res, dim=1)\n",
    "            target = target.to(device)\n",
    "            output = output.to(device)\n",
    "            loss = F.nll_loss(output, target, reduction='sum')\n",
    "            _, pred = torch.max(output, dim=1)\n",
    "            \n",
    "            total_loss += loss.item()\n",
    "            correct_samples += pred.eq(target).sum()\n",
    "\n",
    "    avg_loss = total_loss / total_samples\n",
    "    loss_history.append(avg_loss)\n",
    "    print('\\nAverage test loss: ' + '{:.4f}'.format(avg_loss) +\n",
    "          '  Accuracy:' + '{:5}'.format(correct_samples) + '/' +\n",
    "          '{:5}'.format(total_samples) + ' (' +\n",
    "          '{:4.2f}'.format(100.0 * correct_samples / total_samples) + '%)\\n')"
   ]
  },
  {
   "cell_type": "code",
   "execution_count": 8,
   "id": "7dbe6de3",
   "metadata": {
    "scrolled": false
   },
   "outputs": [
    {
     "name": "stdout",
     "output_type": "stream",
     "text": [
      "Epoch: 1\n",
      "[    0/60000 (  0%)]  Loss: 2.3717\n",
      "[10000/60000 ( 17%)]  Loss: 0.3379\n",
      "[20000/60000 ( 33%)]  Loss: 0.3228\n",
      "[30000/60000 ( 50%)]  Loss: 0.1994\n",
      "[40000/60000 ( 67%)]  Loss: 0.1917\n",
      "[50000/60000 ( 83%)]  Loss: 0.1004\n",
      "\n",
      "Average test loss: 0.1530  Accuracy: 9517/10000 (95.17%)\n",
      "\n",
      "Epoch: 2\n",
      "[    0/60000 (  0%)]  Loss: 0.1826\n",
      "[10000/60000 ( 17%)]  Loss: 0.0944\n",
      "[20000/60000 ( 33%)]  Loss: 0.0435\n",
      "[30000/60000 ( 50%)]  Loss: 0.2422\n",
      "[40000/60000 ( 67%)]  Loss: 0.0930\n",
      "[50000/60000 ( 83%)]  Loss: 0.0350\n",
      "\n",
      "Average test loss: 0.1440  Accuracy: 9565/10000 (95.65%)\n",
      "\n",
      "Epoch: 3\n",
      "[    0/60000 (  0%)]  Loss: 0.1443\n",
      "[10000/60000 ( 17%)]  Loss: 0.1801\n",
      "[20000/60000 ( 33%)]  Loss: 0.1536\n",
      "[30000/60000 ( 50%)]  Loss: 0.0864\n",
      "[40000/60000 ( 67%)]  Loss: 0.1120\n",
      "[50000/60000 ( 83%)]  Loss: 0.1194\n",
      "\n",
      "Average test loss: 0.1251  Accuracy: 9620/10000 (96.20%)\n",
      "\n",
      "Epoch: 4\n",
      "[    0/60000 (  0%)]  Loss: 0.0724\n",
      "[10000/60000 ( 17%)]  Loss: 0.1834\n",
      "[20000/60000 ( 33%)]  Loss: 0.0861\n",
      "[30000/60000 ( 50%)]  Loss: 0.0421\n",
      "[40000/60000 ( 67%)]  Loss: 0.1606\n",
      "[50000/60000 ( 83%)]  Loss: 0.0835\n",
      "\n",
      "Average test loss: 0.1060  Accuracy: 9699/10000 (96.99%)\n",
      "\n",
      "Epoch: 5\n",
      "[    0/60000 (  0%)]  Loss: 0.0228\n",
      "[10000/60000 ( 17%)]  Loss: 0.1133\n",
      "[20000/60000 ( 33%)]  Loss: 0.0912\n",
      "[30000/60000 ( 50%)]  Loss: 0.0522\n",
      "[40000/60000 ( 67%)]  Loss: 0.0897\n",
      "[50000/60000 ( 83%)]  Loss: 0.1483\n",
      "\n",
      "Average test loss: 0.1155  Accuracy: 9669/10000 (96.69%)\n",
      "\n",
      "Epoch: 6\n",
      "[    0/60000 (  0%)]  Loss: 0.0343\n",
      "[10000/60000 ( 17%)]  Loss: 0.1142\n",
      "[20000/60000 ( 33%)]  Loss: 0.0159\n",
      "[30000/60000 ( 50%)]  Loss: 0.1425\n",
      "[40000/60000 ( 67%)]  Loss: 0.0767\n",
      "[50000/60000 ( 83%)]  Loss: 0.1103\n",
      "\n",
      "Average test loss: 0.0892  Accuracy: 9739/10000 (97.39%)\n",
      "\n",
      "Epoch: 7\n",
      "[    0/60000 (  0%)]  Loss: 0.0227\n",
      "[10000/60000 ( 17%)]  Loss: 0.0203\n",
      "[20000/60000 ( 33%)]  Loss: 0.0465\n",
      "[30000/60000 ( 50%)]  Loss: 0.0748\n",
      "[40000/60000 ( 67%)]  Loss: 0.1189\n",
      "[50000/60000 ( 83%)]  Loss: 0.1362\n",
      "\n",
      "Average test loss: 0.1214  Accuracy: 9642/10000 (96.42%)\n",
      "\n",
      "Epoch: 8\n",
      "[    0/60000 (  0%)]  Loss: 0.1695\n",
      "[10000/60000 ( 17%)]  Loss: 0.1595\n",
      "[20000/60000 ( 33%)]  Loss: 0.2291\n",
      "[30000/60000 ( 50%)]  Loss: 0.0344\n",
      "[40000/60000 ( 67%)]  Loss: 0.1428\n",
      "[50000/60000 ( 83%)]  Loss: 0.0920\n",
      "\n",
      "Average test loss: 0.0890  Accuracy: 9751/10000 (97.51%)\n",
      "\n",
      "Epoch: 9\n",
      "[    0/60000 (  0%)]  Loss: 0.0116\n",
      "[10000/60000 ( 17%)]  Loss: 0.0393\n",
      "[20000/60000 ( 33%)]  Loss: 0.0112\n",
      "[30000/60000 ( 50%)]  Loss: 0.0500\n",
      "[40000/60000 ( 67%)]  Loss: 0.0745\n",
      "[50000/60000 ( 83%)]  Loss: 0.0416\n",
      "\n",
      "Average test loss: 0.1033  Accuracy: 9736/10000 (97.36%)\n",
      "\n",
      "Epoch: 10\n",
      "[    0/60000 (  0%)]  Loss: 0.0404\n",
      "[10000/60000 ( 17%)]  Loss: 0.0714\n",
      "[20000/60000 ( 33%)]  Loss: 0.0159\n",
      "[30000/60000 ( 50%)]  Loss: 0.0660\n",
      "[40000/60000 ( 67%)]  Loss: 0.1585\n",
      "[50000/60000 ( 83%)]  Loss: 0.1112\n",
      "\n",
      "Average test loss: 0.0799  Accuracy: 9771/10000 (97.71%)\n",
      "\n",
      "Epoch: 11\n",
      "[    0/60000 (  0%)]  Loss: 0.0238\n",
      "[10000/60000 ( 17%)]  Loss: 0.0429\n",
      "[20000/60000 ( 33%)]  Loss: 0.0137\n",
      "[30000/60000 ( 50%)]  Loss: 0.0118\n",
      "[40000/60000 ( 67%)]  Loss: 0.0574\n",
      "[50000/60000 ( 83%)]  Loss: 0.1360\n",
      "\n",
      "Average test loss: 0.0766  Accuracy: 9806/10000 (98.06%)\n",
      "\n",
      "Epoch: 12\n",
      "[    0/60000 (  0%)]  Loss: 0.0154\n",
      "[10000/60000 ( 17%)]  Loss: 0.0257\n",
      "[20000/60000 ( 33%)]  Loss: 0.0127\n",
      "[30000/60000 ( 50%)]  Loss: 0.0182\n",
      "[40000/60000 ( 67%)]  Loss: 0.0717\n",
      "[50000/60000 ( 83%)]  Loss: 0.0585\n",
      "\n",
      "Average test loss: 0.0793  Accuracy: 9776/10000 (97.76%)\n",
      "\n",
      "Epoch: 13\n",
      "[    0/60000 (  0%)]  Loss: 0.1471\n",
      "[10000/60000 ( 17%)]  Loss: 0.0068\n",
      "[20000/60000 ( 33%)]  Loss: 0.0387\n",
      "[30000/60000 ( 50%)]  Loss: 0.2457\n",
      "[40000/60000 ( 67%)]  Loss: 0.0352\n",
      "[50000/60000 ( 83%)]  Loss: 0.0474\n",
      "\n",
      "Average test loss: 0.0765  Accuracy: 9778/10000 (97.78%)\n",
      "\n",
      "Epoch: 14\n",
      "[    0/60000 (  0%)]  Loss: 0.0245\n",
      "[10000/60000 ( 17%)]  Loss: 0.0542\n",
      "[20000/60000 ( 33%)]  Loss: 0.0990\n",
      "[30000/60000 ( 50%)]  Loss: 0.0736\n",
      "[40000/60000 ( 67%)]  Loss: 0.1652\n",
      "[50000/60000 ( 83%)]  Loss: 0.0041\n",
      "\n",
      "Average test loss: 0.0842  Accuracy: 9784/10000 (97.84%)\n",
      "\n",
      "Epoch: 15\n",
      "[    0/60000 (  0%)]  Loss: 0.1194\n",
      "[10000/60000 ( 17%)]  Loss: 0.0036\n",
      "[20000/60000 ( 33%)]  Loss: 0.0526\n",
      "[30000/60000 ( 50%)]  Loss: 0.0489\n",
      "[40000/60000 ( 67%)]  Loss: 0.0904\n",
      "[50000/60000 ( 83%)]  Loss: 0.0111\n",
      "\n",
      "Average test loss: 0.0718  Accuracy: 9809/10000 (98.09%)\n",
      "\n",
      "Epoch: 16\n",
      "[    0/60000 (  0%)]  Loss: 0.0125\n",
      "[10000/60000 ( 17%)]  Loss: 0.0918\n",
      "[20000/60000 ( 33%)]  Loss: 0.0613\n",
      "[30000/60000 ( 50%)]  Loss: 0.0165\n",
      "[40000/60000 ( 67%)]  Loss: 0.0342\n",
      "[50000/60000 ( 83%)]  Loss: 0.0395\n",
      "\n",
      "Average test loss: 0.0746  Accuracy: 9809/10000 (98.09%)\n",
      "\n",
      "Epoch: 17\n",
      "[    0/60000 (  0%)]  Loss: 0.0082\n",
      "[10000/60000 ( 17%)]  Loss: 0.0027\n",
      "[20000/60000 ( 33%)]  Loss: 0.1097\n",
      "[30000/60000 ( 50%)]  Loss: 0.0615\n",
      "[40000/60000 ( 67%)]  Loss: 0.1854\n",
      "[50000/60000 ( 83%)]  Loss: 0.0644\n",
      "\n",
      "Average test loss: 0.0784  Accuracy: 9799/10000 (97.99%)\n",
      "\n",
      "Epoch: 18\n",
      "[    0/60000 (  0%)]  Loss: 0.0037\n",
      "[10000/60000 ( 17%)]  Loss: 0.0041\n",
      "[20000/60000 ( 33%)]  Loss: 0.0215\n",
      "[30000/60000 ( 50%)]  Loss: 0.0457\n",
      "[40000/60000 ( 67%)]  Loss: 0.0621\n",
      "[50000/60000 ( 83%)]  Loss: 0.1738\n",
      "\n",
      "Average test loss: 0.0953  Accuracy: 9750/10000 (97.50%)\n",
      "\n",
      "Epoch: 19\n",
      "[    0/60000 (  0%)]  Loss: 0.0296\n",
      "[10000/60000 ( 17%)]  Loss: 0.0297\n",
      "[20000/60000 ( 33%)]  Loss: 0.0944\n",
      "[30000/60000 ( 50%)]  Loss: 0.0743\n",
      "[40000/60000 ( 67%)]  Loss: 0.0022\n",
      "[50000/60000 ( 83%)]  Loss: 0.0328\n",
      "\n",
      "Average test loss: 0.0580  Accuracy: 9855/10000 (98.55%)\n",
      "\n",
      "Epoch: 20\n",
      "[    0/60000 (  0%)]  Loss: 0.0061\n",
      "[10000/60000 ( 17%)]  Loss: 0.0223\n",
      "[20000/60000 ( 33%)]  Loss: 0.0201\n",
      "[30000/60000 ( 50%)]  Loss: 0.0083\n",
      "[40000/60000 ( 67%)]  Loss: 0.0040\n",
      "[50000/60000 ( 83%)]  Loss: 0.0258\n",
      "\n",
      "Average test loss: 0.0906  Accuracy: 9764/10000 (97.64%)\n",
      "\n",
      "Epoch: 21\n",
      "[    0/60000 (  0%)]  Loss: 0.0097\n",
      "[10000/60000 ( 17%)]  Loss: 0.0189\n",
      "[20000/60000 ( 33%)]  Loss: 0.0010\n",
      "[30000/60000 ( 50%)]  Loss: 0.0148\n",
      "[40000/60000 ( 67%)]  Loss: 0.0120\n",
      "[50000/60000 ( 83%)]  Loss: 0.0987\n",
      "\n",
      "Average test loss: 0.0713  Accuracy: 9813/10000 (98.13%)\n",
      "\n",
      "Epoch: 22\n",
      "[    0/60000 (  0%)]  Loss: 0.0613\n",
      "[10000/60000 ( 17%)]  Loss: 0.0319\n",
      "[20000/60000 ( 33%)]  Loss: 0.1056\n",
      "[30000/60000 ( 50%)]  Loss: 0.0909\n",
      "[40000/60000 ( 67%)]  Loss: 0.1604\n",
      "[50000/60000 ( 83%)]  Loss: 0.0330\n",
      "\n",
      "Average test loss: 0.0802  Accuracy: 9810/10000 (98.10%)\n",
      "\n",
      "Epoch: 23\n",
      "[    0/60000 (  0%)]  Loss: 0.0025\n",
      "[10000/60000 ( 17%)]  Loss: 0.0406\n",
      "[20000/60000 ( 33%)]  Loss: 0.0174\n",
      "[30000/60000 ( 50%)]  Loss: 0.0051\n",
      "[40000/60000 ( 67%)]  Loss: 0.1732\n",
      "[50000/60000 ( 83%)]  Loss: 0.0527\n",
      "\n",
      "Average test loss: 0.0810  Accuracy: 9807/10000 (98.07%)\n",
      "\n",
      "Epoch: 24\n",
      "[    0/60000 (  0%)]  Loss: 0.0875\n",
      "[10000/60000 ( 17%)]  Loss: 0.0236\n",
      "[20000/60000 ( 33%)]  Loss: 0.0145\n",
      "[30000/60000 ( 50%)]  Loss: 0.0179\n",
      "[40000/60000 ( 67%)]  Loss: 0.0498\n",
      "[50000/60000 ( 83%)]  Loss: 0.0559\n",
      "\n",
      "Average test loss: 0.1083  Accuracy: 9761/10000 (97.61%)\n",
      "\n",
      "Epoch: 25\n",
      "[    0/60000 (  0%)]  Loss: 0.0575\n",
      "[10000/60000 ( 17%)]  Loss: 0.0037\n",
      "[20000/60000 ( 33%)]  Loss: 0.0117\n",
      "[30000/60000 ( 50%)]  Loss: 0.0210\n",
      "[40000/60000 ( 67%)]  Loss: 0.0502\n",
      "[50000/60000 ( 83%)]  Loss: 0.0067\n",
      "\n",
      "Average test loss: 0.0958  Accuracy: 9765/10000 (97.65%)\n",
      "\n",
      "Execution time: 7652.36 seconds\n"
     ]
    }
   ],
   "source": [
    "N_EPOCHS = 25\n",
    "\n",
    "start_time = time.time()\n",
    "model = GraphViT(image_size=28, patch_size=7, num_classes=10, channels=1,\n",
    "            dim=64, depth=6, heads=8, mlp_dim=128)\n",
    "optimizer = optim.Adam(model.parameters(), lr=0.003)\n",
    "model = model.to(device)\n",
    "\n",
    "train_loss_history, test_loss_history = [], []\n",
    "for epoch in range(1, N_EPOCHS + 1):\n",
    "    print('Epoch:', epoch)\n",
    "    train_epoch(model, optimizer, train_loader, train_loss_history)\n",
    "    evaluate(model, test_loader, test_loss_history)\n",
    "\n",
    "print('Execution time:', '{:5.2f}'.format(time.time() - start_time), 'seconds')"
   ]
  },
  {
   "cell_type": "code",
   "execution_count": 9,
   "id": "f726f069",
   "metadata": {},
   "outputs": [],
   "source": [
    "t1 = torch.ones(1,3,4)\n",
    "t3 = torch.ones(1,3,4) * 2\n",
    "t1 = torch.cat((t1,t3), dim=0)"
   ]
  },
  {
   "cell_type": "code",
   "execution_count": 10,
   "id": "a349082c",
   "metadata": {},
   "outputs": [
    {
     "data": {
      "text/plain": [
       "torch.Size([2, 3, 4])"
      ]
     },
     "execution_count": 10,
     "metadata": {},
     "output_type": "execute_result"
    }
   ],
   "source": [
    "t1.shape"
   ]
  },
  {
   "cell_type": "code",
   "execution_count": 11,
   "id": "658a262c",
   "metadata": {},
   "outputs": [
    {
     "data": {
      "text/plain": [
       "tensor([[[1., 1., 1., 1.],\n",
       "         [1., 1., 1., 1.],\n",
       "         [1., 1., 1., 1.]],\n",
       "\n",
       "        [[2., 2., 2., 2.],\n",
       "         [2., 2., 2., 2.],\n",
       "         [2., 2., 2., 2.]]])"
      ]
     },
     "execution_count": 11,
     "metadata": {},
     "output_type": "execute_result"
    }
   ],
   "source": [
    "t1"
   ]
  },
  {
   "cell_type": "code",
   "execution_count": 12,
   "id": "6dbccb3e",
   "metadata": {},
   "outputs": [],
   "source": [
    "t2 = t1.view(t1.shape[0]* t1.shape[1], t1.shape[2])"
   ]
  },
  {
   "cell_type": "code",
   "execution_count": 13,
   "id": "ba818daa",
   "metadata": {},
   "outputs": [
    {
     "data": {
      "text/plain": [
       "tensor([[1., 1., 1., 1.],\n",
       "        [1., 1., 1., 1.],\n",
       "        [1., 1., 1., 1.],\n",
       "        [2., 2., 2., 2.],\n",
       "        [2., 2., 2., 2.],\n",
       "        [2., 2., 2., 2.]])"
      ]
     },
     "execution_count": 13,
     "metadata": {},
     "output_type": "execute_result"
    }
   ],
   "source": [
    "t2"
   ]
  },
  {
   "cell_type": "code",
   "execution_count": 14,
   "id": "9a3a44f1",
   "metadata": {},
   "outputs": [
    {
     "data": {
      "text/plain": [
       "torch.Size([6, 4])"
      ]
     },
     "execution_count": 14,
     "metadata": {},
     "output_type": "execute_result"
    }
   ],
   "source": [
    "t2.shape"
   ]
  },
  {
   "cell_type": "code",
   "execution_count": 15,
   "id": "34395ddb",
   "metadata": {},
   "outputs": [
    {
     "name": "stdout",
     "output_type": "stream",
     "text": [
      "torch.Size([2, 3, 4])\n"
     ]
    }
   ],
   "source": [
    "t4 = t2.view((2, 3, 4))\n",
    "print(t4.shape)"
   ]
  },
  {
   "cell_type": "code",
   "execution_count": 16,
   "id": "03fa31fe",
   "metadata": {},
   "outputs": [
    {
     "name": "stdout",
     "output_type": "stream",
     "text": [
      "tensor([[0., 0., 0., 1., 1., 1., 2., 2., 2., 3., 3., 3., 4., 4., 4., 5., 5., 5.],\n",
      "        [0., 1., 2., 0., 1., 2., 0., 1., 2., 3., 4., 5., 3., 4., 5., 3., 4., 5.]])\n"
     ]
    }
   ],
   "source": [
    "x = torch.zeros(2, t2.shape[0] * t1.shape[1])\n",
    "for i in range(t2.shape[0]):\n",
    "    for j in range(t1.shape[1]):\n",
    "#         print(f'v1 {i}')\n",
    "#         print(f'v2 {t1.shape[1] * (i // t1.shape[1]) + j}\\n')\n",
    "        x[0, i*t1.shape[1] + j] = i\n",
    "        x[1, i*t1.shape[1] + j] = t1.shape[1] * (i // t1.shape[1]) + j\n",
    "print(x)"
   ]
  },
  {
   "cell_type": "code",
   "execution_count": null,
   "id": "1bf6e230",
   "metadata": {},
   "outputs": [],
   "source": []
  }
 ],
 "metadata": {
  "kernelspec": {
   "display_name": "Python 3 (ipykernel)",
   "language": "python",
   "name": "python3"
  },
  "language_info": {
   "codemirror_mode": {
    "name": "ipython",
    "version": 3
   },
   "file_extension": ".py",
   "mimetype": "text/x-python",
   "name": "python",
   "nbconvert_exporter": "python",
   "pygments_lexer": "ipython3",
   "version": "3.9.13"
  }
 },
 "nbformat": 4,
 "nbformat_minor": 5
}
